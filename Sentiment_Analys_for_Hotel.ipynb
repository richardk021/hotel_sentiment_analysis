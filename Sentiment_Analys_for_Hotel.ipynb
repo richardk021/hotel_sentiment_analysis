{
 "cells": [
  {
   "cell_type": "code",
   "metadata": {
    "ExecuteTime": {
     "end_time": "2024-06-07T05:56:45.760232Z",
     "start_time": "2024-06-07T05:56:44.480214Z"
    }
   },
   "source": [
    "import pandas as pd\n",
    "import re\n",
    "import seaborn as sns\n",
    "import matplotlib.pyplot as plt\n",
    "\n",
    "from nltk.corpus import stopwords\n",
    "from nltk.stem import WordNetLemmatizer\n",
    "\n",
    "from sklearn.model_selection import train_test_split\n",
    "from sklearn.naive_bayes import MultinomialNB\n",
    "from sklearn.neighbors import KNeighborsClassifier\n",
    "from sklearn.metrics import classification_report, accuracy_score, confusion_matrix\n",
    "from sklearn.feature_extraction.text import CountVectorizer \n",
    "\n",
    "from wordcloud import WordCloud\n",
    "from collections import Counter\n",
    "from tqdm import trange\n",
    "from gensim import corpora, models\n"
   ],
   "outputs": [],
   "execution_count": 1
  },
  {
   "metadata": {},
   "cell_type": "markdown",
   "source": ""
  },
  {
   "cell_type": "code",
   "metadata": {
    "ExecuteTime": {
     "end_time": "2024-06-07T01:04:55.228683Z",
     "start_time": "2024-06-07T01:04:55.223993Z"
    }
   },
   "source": "TRAIN = \"dataset.csv\" ",
   "outputs": [],
   "execution_count": 25
  },
  {
   "cell_type": "code",
   "metadata": {
    "ExecuteTime": {
     "end_time": "2024-06-07T01:04:55.741200Z",
     "start_time": "2024-06-07T01:04:55.554372Z"
    }
   },
   "source": "datas = pd.read_csv(TRAIN)",
   "outputs": [],
   "execution_count": 26
  },
  {
   "metadata": {
    "ExecuteTime": {
     "end_time": "2024-06-07T01:05:07.922085Z",
     "start_time": "2024-06-07T01:05:07.915504Z"
    }
   },
   "cell_type": "code",
   "source": "datas.shape",
   "outputs": [
    {
     "data": {
      "text/plain": [
       "(20491, 2)"
      ]
     },
     "execution_count": 28,
     "metadata": {},
     "output_type": "execute_result"
    }
   ],
   "execution_count": 28
  },
  {
   "metadata": {
    "ExecuteTime": {
     "end_time": "2024-06-06T18:17:56.951339Z",
     "start_time": "2024-06-06T18:17:56.945855Z"
    }
   },
   "cell_type": "code",
   "source": "data = datas.iloc[:20000]",
   "outputs": [],
   "execution_count": 27
  },
  {
   "cell_type": "code",
   "metadata": {
    "ExecuteTime": {
     "end_time": "2024-06-06T18:17:56.960645Z",
     "start_time": "2024-06-06T18:17:56.953034Z"
    }
   },
   "source": [
    "def text_preprocessing(a):\n",
    "  a=re.sub('[^a-zA-Z ]','',a)\n",
    "  a=a.lower().split()\n",
    "  wn=WordNetLemmatizer()\n",
    "  sw = stopwords.words('english')\n",
    "  clean_word=[wn.lemmatize(i) for i in a if not i in sw]\n",
    "  sen=' '.join(clean_word)\n",
    "  return sen"
   ],
   "outputs": [],
   "execution_count": 28
  },
  {
   "cell_type": "code",
   "metadata": {
    "ExecuteTime": {
     "end_time": "2024-06-06T18:18:08.198919Z",
     "start_time": "2024-06-06T18:17:56.981681Z"
    }
   },
   "source": [
    "data['Preprocessed'] = data['Review'].apply(text_preprocessing)"
   ],
   "outputs": [],
   "execution_count": 29
  },
  {
   "metadata": {
    "ExecuteTime": {
     "end_time": "2024-06-07T07:14:48.517918Z",
     "start_time": "2024-06-07T07:14:48.487915Z"
    }
   },
   "cell_type": "code",
   "source": "data",
   "outputs": [
    {
     "data": {
      "text/plain": [
       "       Unnamed: 0                                             Review  Rating  \\\n",
       "0               0  nice hotel expensive parking got good deal sta...       2   \n",
       "1               1  ok nothing special charge diamond member hilto...       0   \n",
       "2               2  nice rooms not 4* experience hotel monaco seat...       1   \n",
       "3               3  unique, great stay, wonderful time hotel monac...       2   \n",
       "4               4  great stay great stay, went seahawk game aweso...       2   \n",
       "...           ...                                                ...     ...   \n",
       "19995       19995  great time fusion suites stayed grand suite ba...       2   \n",
       "19996       19996  perfect absolutely loved place really best wor...       2   \n",
       "19997       19997  hotel immaculate chose hotel reviews tripadvis...       2   \n",
       "19998       19998  highly recommended time fusion suites definete...       2   \n",
       "19999       19999  great place enjoying barcelona family petit pa...       2   \n",
       "\n",
       "                                            Preprocessed  \n",
       "0      nice hotel expensive parking got good deal sta...  \n",
       "1      ok nothing special charge diamond member hilto...  \n",
       "2      nice room experience hotel monaco seattle good...  \n",
       "3      unique great stay wonderful time hotel monaco ...  \n",
       "4      great stay great stay went seahawk game awesom...  \n",
       "...                                                  ...  \n",
       "19995  great time fusion suite stayed grand suite ban...  \n",
       "19996  perfect absolutely loved place really best wor...  \n",
       "19997  hotel immaculate chose hotel review tripadviso...  \n",
       "19998  highly recommended time fusion suite definetel...  \n",
       "19999  great place enjoying barcelona family petit pa...  \n",
       "\n",
       "[20000 rows x 4 columns]"
      ],
      "text/html": [
       "<div>\n",
       "<style scoped>\n",
       "    .dataframe tbody tr th:only-of-type {\n",
       "        vertical-align: middle;\n",
       "    }\n",
       "\n",
       "    .dataframe tbody tr th {\n",
       "        vertical-align: top;\n",
       "    }\n",
       "\n",
       "    .dataframe thead th {\n",
       "        text-align: right;\n",
       "    }\n",
       "</style>\n",
       "<table border=\"1\" class=\"dataframe\">\n",
       "  <thead>\n",
       "    <tr style=\"text-align: right;\">\n",
       "      <th></th>\n",
       "      <th>Unnamed: 0</th>\n",
       "      <th>Review</th>\n",
       "      <th>Rating</th>\n",
       "      <th>Preprocessed</th>\n",
       "    </tr>\n",
       "  </thead>\n",
       "  <tbody>\n",
       "    <tr>\n",
       "      <th>0</th>\n",
       "      <td>0</td>\n",
       "      <td>nice hotel expensive parking got good deal sta...</td>\n",
       "      <td>2</td>\n",
       "      <td>nice hotel expensive parking got good deal sta...</td>\n",
       "    </tr>\n",
       "    <tr>\n",
       "      <th>1</th>\n",
       "      <td>1</td>\n",
       "      <td>ok nothing special charge diamond member hilto...</td>\n",
       "      <td>0</td>\n",
       "      <td>ok nothing special charge diamond member hilto...</td>\n",
       "    </tr>\n",
       "    <tr>\n",
       "      <th>2</th>\n",
       "      <td>2</td>\n",
       "      <td>nice rooms not 4* experience hotel monaco seat...</td>\n",
       "      <td>1</td>\n",
       "      <td>nice room experience hotel monaco seattle good...</td>\n",
       "    </tr>\n",
       "    <tr>\n",
       "      <th>3</th>\n",
       "      <td>3</td>\n",
       "      <td>unique, great stay, wonderful time hotel monac...</td>\n",
       "      <td>2</td>\n",
       "      <td>unique great stay wonderful time hotel monaco ...</td>\n",
       "    </tr>\n",
       "    <tr>\n",
       "      <th>4</th>\n",
       "      <td>4</td>\n",
       "      <td>great stay great stay, went seahawk game aweso...</td>\n",
       "      <td>2</td>\n",
       "      <td>great stay great stay went seahawk game awesom...</td>\n",
       "    </tr>\n",
       "    <tr>\n",
       "      <th>...</th>\n",
       "      <td>...</td>\n",
       "      <td>...</td>\n",
       "      <td>...</td>\n",
       "      <td>...</td>\n",
       "    </tr>\n",
       "    <tr>\n",
       "      <th>19995</th>\n",
       "      <td>19995</td>\n",
       "      <td>great time fusion suites stayed grand suite ba...</td>\n",
       "      <td>2</td>\n",
       "      <td>great time fusion suite stayed grand suite ban...</td>\n",
       "    </tr>\n",
       "    <tr>\n",
       "      <th>19996</th>\n",
       "      <td>19996</td>\n",
       "      <td>perfect absolutely loved place really best wor...</td>\n",
       "      <td>2</td>\n",
       "      <td>perfect absolutely loved place really best wor...</td>\n",
       "    </tr>\n",
       "    <tr>\n",
       "      <th>19997</th>\n",
       "      <td>19997</td>\n",
       "      <td>hotel immaculate chose hotel reviews tripadvis...</td>\n",
       "      <td>2</td>\n",
       "      <td>hotel immaculate chose hotel review tripadviso...</td>\n",
       "    </tr>\n",
       "    <tr>\n",
       "      <th>19998</th>\n",
       "      <td>19998</td>\n",
       "      <td>highly recommended time fusion suites definete...</td>\n",
       "      <td>2</td>\n",
       "      <td>highly recommended time fusion suite definetel...</td>\n",
       "    </tr>\n",
       "    <tr>\n",
       "      <th>19999</th>\n",
       "      <td>19999</td>\n",
       "      <td>great place enjoying barcelona family petit pa...</td>\n",
       "      <td>2</td>\n",
       "      <td>great place enjoying barcelona family petit pa...</td>\n",
       "    </tr>\n",
       "  </tbody>\n",
       "</table>\n",
       "<p>20000 rows × 4 columns</p>\n",
       "</div>"
      ]
     },
     "execution_count": 81,
     "metadata": {},
     "output_type": "execute_result"
    }
   ],
   "execution_count": 81
  },
  {
   "cell_type": "code",
   "metadata": {
    "ExecuteTime": {
     "end_time": "2024-06-06T18:18:08.241501Z",
     "start_time": "2024-06-06T18:18:08.204237Z"
    }
   },
   "source": [
    "NB = MultinomialNB()\n",
    "KNN = KNeighborsClassifier()"
   ],
   "outputs": [],
   "execution_count": 31
  },
  {
   "cell_type": "code",
   "metadata": {
    "ExecuteTime": {
     "end_time": "2024-06-07T06:15:07.513457Z",
     "start_time": "2024-06-07T06:15:07.509658Z"
    }
   },
   "source": [
    "def rating_label(rating):\n",
    "    if rating > 3:\n",
    "        return \"Positive\"\n",
    "    elif rating <3:\n",
    "        return \"Negative\"\n",
    "    else:\n",
    "        return \"Neutral\""
   ],
   "outputs": [],
   "execution_count": 7
  },
  {
   "cell_type": "code",
   "metadata": {
    "ExecuteTime": {
     "end_time": "2024-06-07T00:54:11.223885Z",
     "start_time": "2024-06-07T00:54:11.216184Z"
    }
   },
   "source": [
    "\n",
    "x = data['Preprocessed']\n",
    "y = data['Rating'].apply(rating_label)\n",
    "\n"
   ],
   "outputs": [],
   "execution_count": 11
  },
  {
   "metadata": {
    "ExecuteTime": {
     "end_time": "2024-06-06T18:18:08.946234Z",
     "start_time": "2024-06-06T18:18:08.424156Z"
    }
   },
   "cell_type": "code",
   "source": "data.to_csv('preprocessed.csv')",
   "outputs": [],
   "execution_count": 34
  },
  {
   "metadata": {
    "ExecuteTime": {
     "end_time": "2024-06-07T06:32:29.174946Z",
     "start_time": "2024-06-07T06:32:28.876835Z"
    }
   },
   "cell_type": "code",
   "source": "data = pd.read_csv('preprocessed.csv')",
   "outputs": [],
   "execution_count": 65
  },
  {
   "metadata": {
    "ExecuteTime": {
     "end_time": "2024-06-07T00:54:12.662189Z",
     "start_time": "2024-06-07T00:54:12.652629Z"
    }
   },
   "cell_type": "code",
   "source": "x_train,x_test,y_train,y_test = train_test_split(x,y,train_size=0.7,random_state=42)",
   "outputs": [],
   "execution_count": 12
  },
  {
   "metadata": {
    "ExecuteTime": {
     "end_time": "2024-06-07T00:54:15.762563Z",
     "start_time": "2024-06-07T00:54:14.107939Z"
    }
   },
   "cell_type": "code",
   "source": [
    "extract = CountVectorizer()\n",
    "x_train = extract.fit_transform(x_train)\n",
    "x_test = extract.transform(x_test)"
   ],
   "outputs": [],
   "execution_count": 13
  },
  {
   "metadata": {
    "ExecuteTime": {
     "end_time": "2024-06-06T18:18:11.391773Z",
     "start_time": "2024-06-06T18:18:11.374042Z"
    }
   },
   "cell_type": "code",
   "source": "x.shape",
   "outputs": [
    {
     "data": {
      "text/plain": [
       "(20000,)"
      ]
     },
     "execution_count": 38,
     "metadata": {},
     "output_type": "execute_result"
    }
   ],
   "execution_count": 38
  },
  {
   "cell_type": "code",
   "metadata": {
    "ExecuteTime": {
     "end_time": "2024-06-07T00:52:47.279293Z",
     "start_time": "2024-06-07T00:52:47.275505Z"
    }
   },
   "source": [
    "import pickle\n",
    "\n",
    "    \n",
    "    "
   ],
   "outputs": [],
   "execution_count": 2
  },
  {
   "cell_type": "code",
   "metadata": {
    "ExecuteTime": {
     "end_time": "2024-06-06T18:18:11.402719Z",
     "start_time": "2024-06-06T18:18:11.399540Z"
    }
   },
   "source": [
    "# train_sk(NB)"
   ],
   "outputs": [],
   "execution_count": 40
  },
  {
   "cell_type": "code",
   "metadata": {
    "ExecuteTime": {
     "end_time": "2024-06-06T18:18:11.408221Z",
     "start_time": "2024-06-06T18:18:11.404247Z"
    }
   },
   "source": [
    "# train_sk(KNN)"
   ],
   "outputs": [],
   "execution_count": 41
  },
  {
   "cell_type": "markdown",
   "metadata": {},
   "source": [
    "# using Positive, neutral And Negative"
   ]
  },
  {
   "cell_type": "code",
   "metadata": {
    "ExecuteTime": {
     "end_time": "2024-06-06T18:18:11.716746Z",
     "start_time": "2024-06-06T18:18:11.409235Z"
    }
   },
   "source": [
    "print(f\"\\nModel {NB}: \")\n",
    "NB.fit(x_train,y_train)\n",
    "pred = NB.predict(x_test)\n",
    "print(f\"accuracy : {accuracy_score(y_test,pred)*100}\")\n",
    "cm = confusion_matrix(y_test,pred)\n",
    "print(f\"\\n{classification_report(pred,y_test)}\")\n",
    "sns.heatmap(cm, annot=True, cmap='Blues', fmt='g')\n",
    "plt.xlabel('Predicted labels')\n",
    "plt.ylabel('True labels')\n",
    "plt.title('Confusion Matrix')\n",
    "plt.show()\n",
    "\n",
    "file = open(f'NB.pickle','wb')\n",
    "pickle.dump(NB,file)\n",
    "file.close()"
   ],
   "outputs": [
    {
     "name": "stdout",
     "output_type": "stream",
     "text": [
      "\n",
      "Model MultinomialNB(): \n",
      "accuracy : 83.68333333333334\n",
      "\n",
      "              precision    recall  f1-score   support\n",
      "\n",
      "    Negative       0.67      0.83      0.74       770\n",
      "     Neutral       0.02      0.56      0.03        18\n",
      "    Positive       0.99      0.84      0.91      5212\n",
      "\n",
      "    accuracy                           0.84      6000\n",
      "   macro avg       0.56      0.74      0.56      6000\n",
      "weighted avg       0.95      0.84      0.88      6000\n",
      "\n"
     ]
    },
    {
     "data": {
      "text/plain": [
       "<Figure size 640x480 with 2 Axes>"
      ],
      "image/png": "[encoded data removed]"
     },
     "metadata": {},
     "output_type": "display_data"
    }
   ],
   "execution_count": 42
  },
  {
   "cell_type": "code",
   "metadata": {
    "ExecuteTime": {
     "end_time": "2024-06-06T18:18:16.316351Z",
     "start_time": "2024-06-06T18:18:11.722526Z"
    }
   },
   "source": [
    "print(f\"\\nModel KNN: \")\n",
    "KNN.fit(x_train,y_train)\n",
    "pred = KNN.predict(x_test)\n",
    "print(f\"accuracy : {accuracy_score(y_test,pred)*100}\")\n",
    "cm = confusion_matrix(y_test,pred)\n",
    "print(f\"\\n{classification_report(pred,y_test)}\")\n",
    "sns.heatmap(cm, annot=True, cmap='Blues', fmt='g')\n",
    "plt.xlabel('Predicted labels')\n",
    "plt.ylabel('True labels')\n",
    "plt.title('Confusion Matrix')\n",
    "plt.show()\n",
    "\n",
    "file = open('KNN.pickle','wb')\n",
    "pickle.dump(KNN,file)\n",
    "file.close()"
   ],
   "outputs": [
    {
     "name": "stdout",
     "output_type": "stream",
     "text": [
      "\n",
      "Model KNN: \n",
      "accuracy : 74.41666666666666\n",
      "\n",
      "              precision    recall  f1-score   support\n",
      "\n",
      "    Negative       0.18      0.62      0.28       274\n",
      "     Neutral       0.08      0.20      0.11       250\n",
      "    Positive       0.96      0.78      0.86      5476\n",
      "\n",
      "    accuracy                           0.74      6000\n",
      "   macro avg       0.41      0.53      0.42      6000\n",
      "weighted avg       0.89      0.74      0.80      6000\n",
      "\n"
     ]
    },
    {
     "data": {
      "text/plain": [
       "<Figure size 640x480 with 2 Axes>"
      ],
      "image/png": "[encoded data removed]"
     },
     "metadata": {},
     "output_type": "display_data"
    }
   ],
   "execution_count": 43
  },
  {
   "cell_type": "code",
   "metadata": {
    "ExecuteTime": {
     "end_time": "2024-06-07T00:54:30.325668Z",
     "start_time": "2024-06-07T00:54:30.306493Z"
    }
   },
   "source": [
    "with open('KNN.pickle','rb') as file:\n",
    "    KNN = pickle.load(file)\n",
    "\n",
    "with open('NB.pickle','rb') as file:\n",
    "    NB = pickle.load(file)"
   ],
   "outputs": [],
   "execution_count": 16
  },
  {
   "metadata": {
    "ExecuteTime": {
     "end_time": "2024-06-07T01:06:19.810939Z",
     "start_time": "2024-06-07T01:06:17.715246Z"
    }
   },
   "cell_type": "code",
   "source": "data_testing = pd.read_csv('reviews.csv')",
   "outputs": [],
   "execution_count": 31
  },
  {
   "metadata": {
    "ExecuteTime": {
     "end_time": "2024-06-07T01:06:22.583763Z",
     "start_time": "2024-06-07T01:06:22.578662Z"
    }
   },
   "cell_type": "code",
   "source": "data_testing.shape",
   "outputs": [
    {
     "data": {
      "text/plain": [
       "(342904, 6)"
      ]
     },
     "execution_count": 32,
     "metadata": {},
     "output_type": "execute_result"
    }
   ],
   "execution_count": 32
  },
  {
   "cell_type": "code",
   "metadata": {
    "ExecuteTime": {
     "end_time": "2024-06-07T07:16:36.356395Z",
     "start_time": "2024-06-07T07:16:36.031503Z"
    }
   },
   "source": "data_batch = pd.read_csv('data_preprocessed.csv')",
   "outputs": [],
   "execution_count": 84
  },
  {
   "metadata": {
    "ExecuteTime": {
     "end_time": "2024-06-07T07:16:39.030572Z",
     "start_time": "2024-06-07T07:16:39.023204Z"
    }
   },
   "cell_type": "code",
   "source": "data_batch.shape",
   "outputs": [
    {
     "data": {
      "text/plain": [
       "(20000, 3)"
      ]
     },
     "execution_count": 86,
     "metadata": {},
     "output_type": "execute_result"
    }
   ],
   "execution_count": 86
  },
  {
   "metadata": {
    "ExecuteTime": {
     "end_time": "2024-06-07T00:53:43.792690Z",
     "start_time": "2024-06-07T00:53:43.776803Z"
    }
   },
   "cell_type": "code",
   "source": [
    "data_batch['Preprocessed'].isna().sum()\n",
    "data_batch = data_batch.dropna(axis=0)"
   ],
   "outputs": [],
   "execution_count": 5
  },
  {
   "metadata": {
    "ExecuteTime": {
     "end_time": "2024-06-07T00:54:23.281580Z",
     "start_time": "2024-06-07T00:54:22.587129Z"
    }
   },
   "cell_type": "code",
   "source": "x = extract.transform(data_batch['Preprocessed'])",
   "outputs": [],
   "execution_count": 14
  },
  {
   "metadata": {
    "ExecuteTime": {
     "end_time": "2024-06-07T00:54:32.303002Z",
     "start_time": "2024-06-07T00:54:32.289602Z"
    }
   },
   "cell_type": "code",
   "source": "NB_Pred = NB.predict(x)",
   "outputs": [],
   "execution_count": 17
  },
  {
   "metadata": {
    "ExecuteTime": {
     "end_time": "2024-06-07T00:54:45.106256Z",
     "start_time": "2024-06-07T00:54:32.989922Z"
    }
   },
   "cell_type": "code",
   "source": "KNN_Pred = KNN.predict(x)",
   "outputs": [],
   "execution_count": 18
  },
  {
   "metadata": {
    "ExecuteTime": {
     "end_time": "2024-06-07T00:55:17.837499Z",
     "start_time": "2024-06-07T00:55:17.828096Z"
    }
   },
   "cell_type": "code",
   "source": "data_batch['NB Predict'] = NB_Pred",
   "outputs": [],
   "execution_count": 20
  },
  {
   "metadata": {
    "ExecuteTime": {
     "end_time": "2024-06-07T00:55:29.970757Z",
     "start_time": "2024-06-07T00:55:29.966157Z"
    }
   },
   "cell_type": "code",
   "source": "data_batch['KNN Predict'] = KNN_Pred",
   "outputs": [],
   "execution_count": 21
  },
  {
   "metadata": {
    "ExecuteTime": {
     "end_time": "2024-06-07T00:55:32.970708Z",
     "start_time": "2024-06-07T00:55:32.948334Z"
    }
   },
   "cell_type": "code",
   "source": "data_batch",
   "outputs": [
    {
     "data": {
      "text/plain": [
       "       Unnamed: 0                                           comments  \\\n",
       "0               0  Daniel is really cool. The place was nice and ...   \n",
       "1               1  If you want the authentic Amsterdam houseboat ...   \n",
       "2               2  Unique and luxurious to be sure. I couldn't re...   \n",
       "3               3  Daniel is the most amazing host! His place is ...   \n",
       "4               4  My wife and I recently stopped in Amsterdam fo...   \n",
       "...           ...                                                ...   \n",
       "19995       19995  It was a very pleasant stay, the place was ver...   \n",
       "19996       19996                         Cousy place and nice host!   \n",
       "19997       19997  We loved staying here. We would’ve stayed here...   \n",
       "19998       19998  Hält was es verspricht! Sehr gemütlich und sch...   \n",
       "19999       19999  Good location for RAI and lots of transport li...   \n",
       "\n",
       "                                            Preprocessed NB Predict  \\\n",
       "0      daniel really cool place nice clean quiet neig...   Positive   \n",
       "1      want authentic amsterdam houseboat experience ...   Positive   \n",
       "2      unique luxurious sure couldnt recommend stayin...   Positive   \n",
       "3      daniel amazing host place extremely clean prov...   Positive   \n",
       "4      wife recently stopped amsterdam day honeymoon ...   Positive   \n",
       "...                                                  ...        ...   \n",
       "19995  pleasant stay place nice ned wife excellent pe...   Positive   \n",
       "19996                              cousy place nice host   Positive   \n",
       "19997  loved staying wouldve stayed whole trip wasnt ...   Positive   \n",
       "19998  hlt e verspricht sehr gemtlich und schne lage ...   Positive   \n",
       "19999  good location rai lot transport link nice area...   Positive   \n",
       "\n",
       "      KNN Predict  \n",
       "0        Positive  \n",
       "1        Positive  \n",
       "2        Positive  \n",
       "3        Positive  \n",
       "4        Positive  \n",
       "...           ...  \n",
       "19995    Positive  \n",
       "19996     Neutral  \n",
       "19997    Positive  \n",
       "19998    Positive  \n",
       "19999     Neutral  \n",
       "\n",
       "[19877 rows x 5 columns]"
      ],
      "text/html": [
       "<div>\n",
       "<style scoped>\n",
       "    .dataframe tbody tr th:only-of-type {\n",
       "        vertical-align: middle;\n",
       "    }\n",
       "\n",
       "    .dataframe tbody tr th {\n",
       "        vertical-align: top;\n",
       "    }\n",
       "\n",
       "    .dataframe thead th {\n",
       "        text-align: right;\n",
       "    }\n",
       "</style>\n",
       "<table border=\"1\" class=\"dataframe\">\n",
       "  <thead>\n",
       "    <tr style=\"text-align: right;\">\n",
       "      <th></th>\n",
       "      <th>Unnamed: 0</th>\n",
       "      <th>comments</th>\n",
       "      <th>Preprocessed</th>\n",
       "      <th>NB Predict</th>\n",
       "      <th>KNN Predict</th>\n",
       "    </tr>\n",
       "  </thead>\n",
       "  <tbody>\n",
       "    <tr>\n",
       "      <th>0</th>\n",
       "      <td>0</td>\n",
       "      <td>Daniel is really cool. The place was nice and ...</td>\n",
       "      <td>daniel really cool place nice clean quiet neig...</td>\n",
       "      <td>Positive</td>\n",
       "      <td>Positive</td>\n",
       "    </tr>\n",
       "    <tr>\n",
       "      <th>1</th>\n",
       "      <td>1</td>\n",
       "      <td>If you want the authentic Amsterdam houseboat ...</td>\n",
       "      <td>want authentic amsterdam houseboat experience ...</td>\n",
       "      <td>Positive</td>\n",
       "      <td>Positive</td>\n",
       "    </tr>\n",
       "    <tr>\n",
       "      <th>2</th>\n",
       "      <td>2</td>\n",
       "      <td>Unique and luxurious to be sure. I couldn't re...</td>\n",
       "      <td>unique luxurious sure couldnt recommend stayin...</td>\n",
       "      <td>Positive</td>\n",
       "      <td>Positive</td>\n",
       "    </tr>\n",
       "    <tr>\n",
       "      <th>3</th>\n",
       "      <td>3</td>\n",
       "      <td>Daniel is the most amazing host! His place is ...</td>\n",
       "      <td>daniel amazing host place extremely clean prov...</td>\n",
       "      <td>Positive</td>\n",
       "      <td>Positive</td>\n",
       "    </tr>\n",
       "    <tr>\n",
       "      <th>4</th>\n",
       "      <td>4</td>\n",
       "      <td>My wife and I recently stopped in Amsterdam fo...</td>\n",
       "      <td>wife recently stopped amsterdam day honeymoon ...</td>\n",
       "      <td>Positive</td>\n",
       "      <td>Positive</td>\n",
       "    </tr>\n",
       "    <tr>\n",
       "      <th>...</th>\n",
       "      <td>...</td>\n",
       "      <td>...</td>\n",
       "      <td>...</td>\n",
       "      <td>...</td>\n",
       "      <td>...</td>\n",
       "    </tr>\n",
       "    <tr>\n",
       "      <th>19995</th>\n",
       "      <td>19995</td>\n",
       "      <td>It was a very pleasant stay, the place was ver...</td>\n",
       "      <td>pleasant stay place nice ned wife excellent pe...</td>\n",
       "      <td>Positive</td>\n",
       "      <td>Positive</td>\n",
       "    </tr>\n",
       "    <tr>\n",
       "      <th>19996</th>\n",
       "      <td>19996</td>\n",
       "      <td>Cousy place and nice host!</td>\n",
       "      <td>cousy place nice host</td>\n",
       "      <td>Positive</td>\n",
       "      <td>Neutral</td>\n",
       "    </tr>\n",
       "    <tr>\n",
       "      <th>19997</th>\n",
       "      <td>19997</td>\n",
       "      <td>We loved staying here. We would’ve stayed here...</td>\n",
       "      <td>loved staying wouldve stayed whole trip wasnt ...</td>\n",
       "      <td>Positive</td>\n",
       "      <td>Positive</td>\n",
       "    </tr>\n",
       "    <tr>\n",
       "      <th>19998</th>\n",
       "      <td>19998</td>\n",
       "      <td>Hält was es verspricht! Sehr gemütlich und sch...</td>\n",
       "      <td>hlt e verspricht sehr gemtlich und schne lage ...</td>\n",
       "      <td>Positive</td>\n",
       "      <td>Positive</td>\n",
       "    </tr>\n",
       "    <tr>\n",
       "      <th>19999</th>\n",
       "      <td>19999</td>\n",
       "      <td>Good location for RAI and lots of transport li...</td>\n",
       "      <td>good location rai lot transport link nice area...</td>\n",
       "      <td>Positive</td>\n",
       "      <td>Neutral</td>\n",
       "    </tr>\n",
       "  </tbody>\n",
       "</table>\n",
       "<p>19877 rows × 5 columns</p>\n",
       "</div>"
      ]
     },
     "execution_count": 22,
     "metadata": {},
     "output_type": "execute_result"
    }
   ],
   "execution_count": 22
  },
  {
   "metadata": {
    "ExecuteTime": {
     "end_time": "2024-06-07T00:55:58.748053Z",
     "start_time": "2024-06-07T00:55:58.382426Z"
    }
   },
   "cell_type": "code",
   "source": "data_batch.to_csv('data_output.csv')",
   "outputs": [],
   "execution_count": 23
  },
  {
   "metadata": {},
   "cell_type": "markdown",
   "source": "# ."
  },
  {
   "metadata": {},
   "cell_type": "markdown",
   "source": "# ."
  },
  {
   "metadata": {},
   "cell_type": "markdown",
   "source": "# ."
  },
  {
   "metadata": {},
   "cell_type": "markdown",
   "source": "# ."
  },
  {
   "metadata": {},
   "cell_type": "markdown",
   "source": "# ."
  },
  {
   "metadata": {},
   "cell_type": "markdown",
   "source": "# ."
  },
  {
   "metadata": {
    "ExecuteTime": {
     "end_time": "2024-06-07T05:58:07.046856Z",
     "start_time": "2024-06-07T05:58:02.725491Z"
    }
   },
   "cell_type": "code",
   "source": [
    "import torch\n",
    "from torch.utils.data import DataLoader, TensorDataset, random_split\n",
    "from transformers import BertTokenizer, BertForSequenceClassification, AdamW\n",
    "from transformers import get_linear_schedule_with_warmup\n",
    "\n"
   ],
   "outputs": [],
   "execution_count": 3
  },
  {
   "metadata": {
    "ExecuteTime": {
     "end_time": "2024-06-07T06:31:36.833993Z",
     "start_time": "2024-06-07T06:31:34.907770Z"
    }
   },
   "cell_type": "code",
   "source": [
    "# Memuat Tokenizer dan Model BERT\n",
    "tokenizer = BertTokenizer.from_pretrained('bert-base-uncased')\n",
    "model = BertForSequenceClassification.from_pretrained('bert-base-uncased', num_labels=3)\n",
    "\n"
   ],
   "outputs": [
    {
     "name": "stderr",
     "output_type": "stream",
     "text": [
      "C:\\Users\\User\\AppData\\Local\\Programs\\Python\\Python311\\Lib\\site-packages\\huggingface_hub\\file_download.py:1132: FutureWarning: `resume_download` is deprecated and will be removed in version 1.0.0. Downloads always resume when possible. If you want to force a new download, use `force_download=True`.\n",
      "  warnings.warn(\n",
      "Some weights of BertForSequenceClassification were not initialized from the model checkpoint at bert-base-uncased and are newly initialized: ['classifier.bias', 'classifier.weight']\n",
      "You should probably TRAIN this model on a down-stream task to be able to use it for predictions and inference.\n"
     ]
    }
   ],
   "execution_count": 60
  },
  {
   "metadata": {
    "ExecuteTime": {
     "end_time": "2024-06-07T06:32:36.996918Z",
     "start_time": "2024-06-07T06:32:36.992143Z"
    }
   },
   "cell_type": "code",
   "source": [
    "def labelEncoder(val):\n",
    "    if val == 'Positive':\n",
    "        return 2\n",
    "    elif val == 'Negative':\n",
    "        return 0\n",
    "    else:\n",
    "        return 1"
   ],
   "outputs": [],
   "execution_count": 66
  },
  {
   "metadata": {
    "ExecuteTime": {
     "end_time": "2024-06-07T06:32:40.596666Z",
     "start_time": "2024-06-07T06:32:40.580056Z"
    }
   },
   "cell_type": "code",
   "source": [
    "data['Rating'] = data['Rating'].apply(rating_label)\n",
    "data['Rating'] = data['Rating'].apply(labelEncoder)"
   ],
   "outputs": [],
   "execution_count": 68
  },
  {
   "metadata": {
    "ExecuteTime": {
     "end_time": "2024-06-07T06:32:41.413015Z",
     "start_time": "2024-06-07T06:32:41.401846Z"
    }
   },
   "cell_type": "code",
   "source": "data",
   "outputs": [
    {
     "data": {
      "text/plain": [
       "       Unnamed: 0                                             Review  Rating  \\\n",
       "0               0  nice hotel expensive parking got good deal sta...       2   \n",
       "1               1  ok nothing special charge diamond member hilto...       0   \n",
       "2               2  nice rooms not 4* experience hotel monaco seat...       1   \n",
       "3               3  unique, great stay, wonderful time hotel monac...       2   \n",
       "4               4  great stay great stay, went seahawk game aweso...       2   \n",
       "...           ...                                                ...     ...   \n",
       "19995       19995  great time fusion suites stayed grand suite ba...       2   \n",
       "19996       19996  perfect absolutely loved place really best wor...       2   \n",
       "19997       19997  hotel immaculate chose hotel reviews tripadvis...       2   \n",
       "19998       19998  highly recommended time fusion suites definete...       2   \n",
       "19999       19999  great place enjoying barcelona family petit pa...       2   \n",
       "\n",
       "                                            Preprocessed  \n",
       "0      nice hotel expensive parking got good deal sta...  \n",
       "1      ok nothing special charge diamond member hilto...  \n",
       "2      nice room experience hotel monaco seattle good...  \n",
       "3      unique great stay wonderful time hotel monaco ...  \n",
       "4      great stay great stay went seahawk game awesom...  \n",
       "...                                                  ...  \n",
       "19995  great time fusion suite stayed grand suite ban...  \n",
       "19996  perfect absolutely loved place really best wor...  \n",
       "19997  hotel immaculate chose hotel review tripadviso...  \n",
       "19998  highly recommended time fusion suite definetel...  \n",
       "19999  great place enjoying barcelona family petit pa...  \n",
       "\n",
       "[20000 rows x 4 columns]"
      ],
      "text/html": [
       "<div>\n",
       "<style scoped>\n",
       "    .dataframe tbody tr th:only-of-type {\n",
       "        vertical-align: middle;\n",
       "    }\n",
       "\n",
       "    .dataframe tbody tr th {\n",
       "        vertical-align: top;\n",
       "    }\n",
       "\n",
       "    .dataframe thead th {\n",
       "        text-align: right;\n",
       "    }\n",
       "</style>\n",
       "<table border=\"1\" class=\"dataframe\">\n",
       "  <thead>\n",
       "    <tr style=\"text-align: right;\">\n",
       "      <th></th>\n",
       "      <th>Unnamed: 0</th>\n",
       "      <th>Review</th>\n",
       "      <th>Rating</th>\n",
       "      <th>Preprocessed</th>\n",
       "    </tr>\n",
       "  </thead>\n",
       "  <tbody>\n",
       "    <tr>\n",
       "      <th>0</th>\n",
       "      <td>0</td>\n",
       "      <td>nice hotel expensive parking got good deal sta...</td>\n",
       "      <td>2</td>\n",
       "      <td>nice hotel expensive parking got good deal sta...</td>\n",
       "    </tr>\n",
       "    <tr>\n",
       "      <th>1</th>\n",
       "      <td>1</td>\n",
       "      <td>ok nothing special charge diamond member hilto...</td>\n",
       "      <td>0</td>\n",
       "      <td>ok nothing special charge diamond member hilto...</td>\n",
       "    </tr>\n",
       "    <tr>\n",
       "      <th>2</th>\n",
       "      <td>2</td>\n",
       "      <td>nice rooms not 4* experience hotel monaco seat...</td>\n",
       "      <td>1</td>\n",
       "      <td>nice room experience hotel monaco seattle good...</td>\n",
       "    </tr>\n",
       "    <tr>\n",
       "      <th>3</th>\n",
       "      <td>3</td>\n",
       "      <td>unique, great stay, wonderful time hotel monac...</td>\n",
       "      <td>2</td>\n",
       "      <td>unique great stay wonderful time hotel monaco ...</td>\n",
       "    </tr>\n",
       "    <tr>\n",
       "      <th>4</th>\n",
       "      <td>4</td>\n",
       "      <td>great stay great stay, went seahawk game aweso...</td>\n",
       "      <td>2</td>\n",
       "      <td>great stay great stay went seahawk game awesom...</td>\n",
       "    </tr>\n",
       "    <tr>\n",
       "      <th>...</th>\n",
       "      <td>...</td>\n",
       "      <td>...</td>\n",
       "      <td>...</td>\n",
       "      <td>...</td>\n",
       "    </tr>\n",
       "    <tr>\n",
       "      <th>19995</th>\n",
       "      <td>19995</td>\n",
       "      <td>great time fusion suites stayed grand suite ba...</td>\n",
       "      <td>2</td>\n",
       "      <td>great time fusion suite stayed grand suite ban...</td>\n",
       "    </tr>\n",
       "    <tr>\n",
       "      <th>19996</th>\n",
       "      <td>19996</td>\n",
       "      <td>perfect absolutely loved place really best wor...</td>\n",
       "      <td>2</td>\n",
       "      <td>perfect absolutely loved place really best wor...</td>\n",
       "    </tr>\n",
       "    <tr>\n",
       "      <th>19997</th>\n",
       "      <td>19997</td>\n",
       "      <td>hotel immaculate chose hotel reviews tripadvis...</td>\n",
       "      <td>2</td>\n",
       "      <td>hotel immaculate chose hotel review tripadviso...</td>\n",
       "    </tr>\n",
       "    <tr>\n",
       "      <th>19998</th>\n",
       "      <td>19998</td>\n",
       "      <td>highly recommended time fusion suites definete...</td>\n",
       "      <td>2</td>\n",
       "      <td>highly recommended time fusion suite definetel...</td>\n",
       "    </tr>\n",
       "    <tr>\n",
       "      <th>19999</th>\n",
       "      <td>19999</td>\n",
       "      <td>great place enjoying barcelona family petit pa...</td>\n",
       "      <td>2</td>\n",
       "      <td>great place enjoying barcelona family petit pa...</td>\n",
       "    </tr>\n",
       "  </tbody>\n",
       "</table>\n",
       "<p>20000 rows × 4 columns</p>\n",
       "</div>"
      ]
     },
     "execution_count": 69,
     "metadata": {},
     "output_type": "execute_result"
    }
   ],
   "execution_count": 69
  },
  {
   "metadata": {
    "ExecuteTime": {
     "end_time": "2024-06-07T06:33:23.296999Z",
     "start_time": "2024-06-07T06:32:44.176332Z"
    }
   },
   "cell_type": "code",
   "source": [
    "# Tokenisasi dan Pembuatan Tensor Input\n",
    "inputs = tokenizer(data['Preprocessed'].tolist(), return_tensors=\"pt\", padding=True, truncation=True, max_length=512)\n",
    "input_ids = inputs[\"input_ids\"]\n",
    "attention_mask = inputs[\"attention_mask\"]\n",
    "labels = torch.tensor(data['Rating'].tolist())\n",
    "\n"
   ],
   "outputs": [],
   "execution_count": 70
  },
  {
   "metadata": {
    "ExecuteTime": {
     "end_time": "2024-06-07T06:33:31.856262Z",
     "start_time": "2024-06-07T06:33:31.736908Z"
    }
   },
   "cell_type": "code",
   "source": [
    "# Membuat Dataset dan DataLoader\n",
    "dataset = TensorDataset(input_ids, attention_mask, labels)\n",
    "train_size = int(0.8 * len(dataset))\n",
    "val_size = len(dataset) - train_size\n",
    "train_dataset, val_dataset = random_split(dataset, [train_size, val_size])\n",
    "\n",
    "train_loader = DataLoader(train_dataset, batch_size=2, shuffle=True)\n",
    "val_loader = DataLoader(val_dataset, batch_size=2, shuffle=False)\n"
   ],
   "outputs": [],
   "execution_count": 71
  },
  {
   "metadata": {
    "ExecuteTime": {
     "end_time": "2024-06-07T06:33:32.651104Z",
     "start_time": "2024-06-07T06:33:32.566157Z"
    }
   },
   "cell_type": "code",
   "source": [
    "\n",
    "# Mengatur Optimizer dan Scheduler\n",
    "optimizer = AdamW(model.parameters(), lr=2e-5, eps=1e-8)\n",
    "epochs = 3\n",
    "total_steps = len(train_loader) * epochs\n",
    "scheduler = get_linear_schedule_with_warmup(optimizer, num_warmup_steps=0, num_training_steps=total_steps)\n",
    "\n"
   ],
   "outputs": [
    {
     "name": "stderr",
     "output_type": "stream",
     "text": [
      "C:\\Users\\User\\AppData\\Local\\Programs\\Python\\Python311\\Lib\\site-packages\\transformers\\optimization.py:521: FutureWarning: This implementation of AdamW is deprecated and will be removed in a future version. Use the PyTorch implementation torch.optim.AdamW instead, or set `no_deprecation_warning=True` to disable this warning\n",
      "  warnings.warn(\n"
     ]
    }
   ],
   "execution_count": 72
  },
  {
   "metadata": {
    "ExecuteTime": {
     "end_time": "2024-06-07T06:35:54.779525Z",
     "start_time": "2024-06-07T06:35:54.773929Z"
    }
   },
   "cell_type": "code",
   "source": [
    "# Fungsi untuk Melatih Model\n",
    "def train(model, dataloader):\n",
    "    model.train()\n",
    "    total_loss = 0\n",
    "    for batch in dataloader:\n",
    "        b_input_ids, b_attention_mask, b_labels = batch\n",
    "        # print(batch)\n",
    "        model.zero_grad()\n",
    "        outputs = model(b_input_ids, attention_mask=b_attention_mask, labels=b_labels)\n",
    "        loss = outputs.loss\n",
    "        total_loss += loss.item()\n",
    "        loss.backward()\n",
    "        optimizer.step()\n",
    "        scheduler.step()\n",
    "    avg_loss = total_loss / len(dataloader)\n",
    "    print(f\"Training loss: {avg_loss}\")\n",
    "\n"
   ],
   "outputs": [],
   "execution_count": 77
  },
  {
   "metadata": {
    "ExecuteTime": {
     "end_time": "2024-06-07T06:35:56.246581Z",
     "start_time": "2024-06-07T06:35:56.239832Z"
    }
   },
   "cell_type": "code",
   "source": [
    "# Fungsi untuk Evaluasi Model\n",
    "def evaluate(model, dataloader):\n",
    "    model.eval()\n",
    "    total_loss = 0\n",
    "    correct_predictions = 0\n",
    "    with torch.no_grad():\n",
    "        for batch in dataloader:\n",
    "            b_input_ids, b_attention_mask, b_labels = batch\n",
    "            outputs = model(b_input_ids, attention_mask=b_attention_mask, labels=b_labels)\n",
    "            loss = outputs.loss\n",
    "            logits = outputs.logits\n",
    "            total_loss += loss.item()\n",
    "            predictions = torch.argmax(logits, dim=-1)\n",
    "            correct_predictions += torch.sum(predictions == b_labels).item()\n",
    "    avg_loss = total_loss / len(dataloader)\n",
    "    accuracy = correct_predictions / len(dataloader.dataset)\n",
    "    print(f\"Validation loss: {avg_loss}\")\n",
    "    print(f\"Validation accuracy: {accuracy}\")\n",
    "\n"
   ],
   "outputs": [],
   "execution_count": 78
  },
  {
   "metadata": {
    "ExecuteTime": {
     "end_time": "2024-06-07T06:35:56.587834Z",
     "start_time": "2024-06-07T06:35:56.582203Z"
    }
   },
   "cell_type": "code",
   "source": "data['Rating'].value_counts()",
   "outputs": [
    {
     "data": {
      "text/plain": [
       "Rating\n",
       "2    14769\n",
       "0     3118\n",
       "1     2113\n",
       "Name: count, dtype: int64"
      ]
     },
     "execution_count": 79,
     "metadata": {},
     "output_type": "execute_result"
    }
   ],
   "execution_count": 79
  },
  {
   "metadata": {
    "jupyter": {
     "is_executing": true
    },
    "ExecuteTime": {
     "start_time": "2024-06-07T06:35:57.631442Z"
    }
   },
   "cell_type": "code",
   "source": [
    "# Melatih dan Mengevaluasi Model\n",
    "for epoch in range(epochs):\n",
    "    print(f\"Epoch {epoch + 1}/{epochs}\")\n",
    "    train(model, train_loader)\n",
    "    evaluate(model, val_loader)\n",
    "\n"
   ],
   "outputs": [
    {
     "name": "stdout",
     "output_type": "stream",
     "text": [
      "Epoch 1/3\n"
     ]
    }
   ],
   "execution_count": null
  },
  {
   "metadata": {
    "ExecuteTime": {
     "end_time": "2024-06-07T06:28:01.487788Z",
     "start_time": "2024-06-07T06:28:01.483983Z"
    }
   },
   "cell_type": "code",
   "source": [
    "# Membuat Prediksi pada Data Baru\n",
    "def predict(model, texts):\n",
    "    inputs = tokenizer(texts, return_tensors=\"pt\", padding=True, truncation=True, max_length=512)\n",
    "    with torch.no_grad():\n",
    "        outputs = model(inputs[\"input_ids\"], attention_mask=inputs[\"attention_mask\"])\n",
    "    logits = outputs.logits\n",
    "    predictions = torch.argmax(logits, dim=-1)\n",
    "    return predictions\n",
    "\n"
   ],
   "outputs": [],
   "execution_count": 48
  },
  {
   "metadata": {},
   "cell_type": "code",
   "source": [
    "# Contoh Prediksi\n",
    "new_texts = [\"I enjoy learning new programming languages\", \"Debugging is frustrating\"]\n",
    "predictions = predict(model, new_texts)\n",
    "print(predictions)  # Output: tensor([1, 0])\n"
   ],
   "outputs": [],
   "execution_count": null
  },
  {
   "metadata": {},
   "cell_type": "code",
   "outputs": [],
   "execution_count": null,
   "source": ""
  }
 ],
 "metadata": {
  "kernelspec": {
   "display_name": "Python 3",
   "language": "python",
   "name": "python3"
  },
  "language_info": {
   "codemirror_mode": {
    "name": "ipython",
    "version": 3
   },
   "file_extension": ".py",
   "mimetype": "text/x-python",
   "name": "python",
   "nbconvert_exporter": "python",
   "pygments_lexer": "ipython3",
   "version": "3.11.4"
  }
 },
 "nbformat": 4,
 "nbformat_minor": 2
}
